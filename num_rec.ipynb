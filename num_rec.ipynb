{
 "cells": [
  {
   "cell_type": "code",
   "execution_count": 1,
   "metadata": {},
   "outputs": [],
   "source": [
    "%matplotlib inline\n",
    "import random\n",
    "import matplotlib\n",
    "import matplotlib.pyplot as plt\n",
    "import numpy as np \n",
    "\n",
    "import tensorflow as tf\n",
    "import tensorflow.contrib.slim as slim"
   ]
  },
  {
   "cell_type": "code",
   "execution_count": 2,
   "metadata": {},
   "outputs": [
    {
     "name": "stdout",
     "output_type": "stream",
     "text": [
      "Extracting MNIST_data/train-images-idx3-ubyte.gz\n",
      "Extracting MNIST_data/train-labels-idx1-ubyte.gz\n",
      "Extracting MNIST_data/t10k-images-idx3-ubyte.gz\n",
      "Extracting MNIST_data/t10k-labels-idx1-ubyte.gz\n"
     ]
    }
   ],
   "source": [
    "#Выгружаем данные из датасета\n",
    "from tensorflow.examples.tutorials.mnist import input_data as mnist_data\n",
    "mnist = mnist_data.read_data_sets(\"MNIST_data/\", one_hot=True)"
   ]
  },
  {
   "cell_type": "code",
   "execution_count": 3,
   "metadata": {},
   "outputs": [
    {
     "data": {
      "image/png": "[encoded data removed]",
      "text/plain": [
       "<matplotlib.figure.Figure at 0x7ff1ff3d8da0>"
      ]
     },
     "metadata": {},
     "output_type": "display_data"
    }
   ],
   "source": [
    "#Смотрим что за данные\n",
    "mnist_samples = mnist.train.images[:32,:].transpose().reshape(28, 28, -1)\n",
    "\n",
    "fig = plt.figure(figsize=(10,6))\n",
    "for j in range(mnist_samples.shape[2]):\n",
    "    ax = fig.add_subplot(4, 8, j+1)\n",
    "    ax.imshow(mnist_samples[:,:,j], \n",
    "              cmap=matplotlib.cm.binary, interpolation='none')\n",
    "    plt.xticks(np.array([]))\n",
    "    plt.yticks(np.array([]))\n",
    "plt.show()"
   ]
  },
  {
   "cell_type": "code",
   "execution_count": 4,
   "metadata": {},
   "outputs": [],
   "source": [
    "with tf.name_scope('inputs'):\n",
    "    x = tf.placeholder(tf.float32, [None, 784], name='x')\n",
    "    y = tf.placeholder(tf.float32, [None, 10], name='y')\n",
    "    x_image = tf.reshape(x, [-1,28,28,1], name='image')"
   ]
  },
  {
   "cell_type": "code",
   "execution_count": 5,
   "metadata": {},
   "outputs": [],
   "source": [
    "#Подготовка данных(сжатие + обработка)\n",
    "with slim.arg_scope(\n",
    "    [slim.conv2d, slim.fully_connected],\n",
    "    biases_initializer=tf.constant_initializer(0.1),\n",
    "    weights_initializer=tf.truncated_normal_initializer(stddev=0.1),\n",
    "):\n",
    "    out = slim.conv2d(x_image, 32, [5, 5], scope='conv1')\n",
    "    out = slim.max_pool2d(out, [2, 2], scope='pool1')\n",
    "    out = slim.conv2d(out, 64, [5, 5], scope='conv2')\n",
    "    out = slim.max_pool2d(out, [2, 2], scope='pool2')\n",
    "    out = slim.flatten(out)\n",
    "    out = slim.fully_connected(out, 256, scope='fc1')\n",
    "    out = slim.fully_connected(out, 10, activation_fn=None, scope='fc2')"
   ]
  },
  {
   "cell_type": "code",
   "execution_count": 6,
   "metadata": {},
   "outputs": [],
   "source": [
    "with tf.name_scope('loss'):    \n",
    "    loss = tf.reduce_mean(tf.nn.softmax_cross_entropy_with_logits(\n",
    "        logits=out, labels=y), name='cross_entropy')\n",
    "loss_summary = tf.summary.scalar('loss', loss)\n",
    "\n",
    "with tf.name_scope('accuracy'):\n",
    "    correct_prediction = tf.equal(tf.argmax(out, 1), tf.argmax(y, 1))\n",
    "    accuracy = tf.reduce_mean(tf.cast(correct_prediction, tf.float32))\n",
    "accuracy_summary = tf.summary.scalar('accuracy', accuracy)"
   ]
  },
  {
   "cell_type": "code",
   "execution_count": 7,
   "metadata": {},
   "outputs": [],
   "source": [
    "#Инициализируем обучение \n",
    "ITERS = 1400\n",
    "BATCH_SIZE = 64\n",
    "LEARNING_RATE = 0.0001\n",
    "\n",
    "# optimizer = tf.train.GradientDescentOptimizer(LEARNING_RATE)\n",
    "# output_dir = 'logs/sgd'\n",
    "optimizer = tf.train.AdamOptimizer(LEARNING_RATE)\n",
    "output_dir = 'logs/adam/'\n",
    "\n",
    "global_step = tf.train.get_or_create_global_step()\n",
    "train_op = slim.learning.create_train_op(loss, \n",
    "    optimizer, global_step=global_step)\n",
    "\n",
    "init = tf.global_variables_initializer()\n",
    "\n",
    "config = tf.ConfigProto(log_device_placement = False)\n",
    "config.gpu_options.allow_growth = True\n",
    "config.gpu_options.allocator_type = 'BFC'\n",
    "sess = tf.Session(config=config)\n",
    "\n",
    "sess.run(init)\n",
    "summary_writer = tf.summary.FileWriter(output_dir, sess.graph)"
   ]
  },
  {
   "cell_type": "code",
   "execution_count": null,
   "metadata": {},
   "outputs": [
    {
     "name": "stdout",
     "output_type": "stream",
     "text": [
      "[   0] Accuracy:  9.38 %\n",
      "[  20] Accuracy: 28.12 %\n",
      "[  40] Accuracy: 60.94 %\n",
      "[  60] Accuracy: 65.62 %\n",
      "[  80] Accuracy: 77.34 %\n",
      "[ 100] Accuracy: 80.47 %\n",
      "[ 120] Accuracy: 80.47 %\n",
      "[ 140] Accuracy: 89.06 %\n",
      "[ 160] Accuracy: 89.84 %\n",
      "[ 180] Accuracy: 82.81 %\n",
      "[ 200] Accuracy: 95.31 %\n",
      "[ 220] Accuracy: 89.06 %\n",
      "[ 240] Accuracy: 91.41 %\n",
      "[ 260] Accuracy: 92.19 %\n",
      "[ 280] Accuracy: 90.62 %\n"
     ]
    }
   ],
   "source": [
    "#Само обучение\n",
    "for it in range(1400):\n",
    "\n",
    "    batch_xs, batch_ys = mnist.train.next_batch(BATCH_SIZE)    \n",
    "    _, loss_s = sess.run([train_op, loss_summary], feed_dict={\n",
    "        x: batch_xs, y: batch_ys,\n",
    "    })\n",
    "\n",
    "    if it % 10 == 0:\n",
    "        summary_writer.add_summary(loss_s, it)\n",
    "        \n",
    "    if it % 20 == 0:\n",
    "        test_xs, test_ys = mnist.test.next_batch(128)\n",
    "        acc, acc_s = sess.run([accuracy, accuracy_summary], feed_dict={\n",
    "            x: test_xs, y: test_ys,\n",
    "        })\n",
    "        summary_writer.add_summary(acc_s, it)\n",
    "        print(\"[%4d] Accuracy: %5.2f %%\" % (it, acc*100))"
   ]
  },
  {
   "cell_type": "markdown",
   "metadata": {},
   "source": [
    "# # Обучение долгое на процессоре, меняй итерации на 1000 в пред. пункте"
   ]
  },
  {
   "cell_type": "code",
   "execution_count": null,
   "metadata": {},
   "outputs": [],
   "source": [
    "#Проверим точнсть на тестовой выборке \n",
    "#final_acc = sess.run(accuracy, feed_dict={\n",
    "#    x: mnist.test.images,\n",
    "#    y: mnist.test.labels,\n",
    "#})\n",
    "#print('Final accuracy : %5.2f %%' % (final_acc*100))"
   ]
  },
  {
   "cell_type": "code",
   "execution_count": null,
   "metadata": {},
   "outputs": [],
   "source": [
    "#Смотрим как хорошо распознает на случайном числе из датасета\n",
    "idx = random.randint(0, mnist.test.images.shape[0])\n",
    "sample = mnist.test.images[idx,:]\n",
    "test_digit(sample)"
   ]
  },
  {
   "cell_type": "code",
   "execution_count": null,
   "metadata": {},
   "outputs": [],
   "source": [
    "def test_digit(sample):\n",
    "    \n",
    "    sample = sample[np.newaxis, ...]\n",
    "    prediction = sess.run(tf.nn.softmax(out), feed_dict={x: sample})\n",
    "    ans = np.argmax(prediction)\n",
    "\n",
    "    fig = plt.figure(figsize=(12,4))\n",
    "\n",
    "    ax = fig.add_subplot(1, 2, 1)\n",
    "    ax.imshow(sample.transpose().reshape(28, 28), \n",
    "              cmap=matplotlib.cm.binary,interpolation ='none')\n",
    "    plt.xticks(np.array([]))\n",
    "    plt.yticks(np.array([]))\n",
    "\n",
    "    ax = fig.add_subplot(1, 2, 2)\n",
    "    bar_list = ax.bar(np.arange(10), prediction[0], align='center')\n",
    "    bar_list[ans].set_color('g')\n",
    "    ax.set_xticks(np.arange(10))\n",
    "    ax.set_xlim([-1, 10])\n",
    "    ax.grid('on')\n",
    "\n",
    "    plt.show()\n",
    "\n",
    "    print('Answer: {}'.format(ans))"
   ]
  },
  {
   "cell_type": "code",
   "execution_count": null,
   "metadata": {},
   "outputs": [],
   "source": [
    "#Правильный ответ \n",
    "print('True Answer: {}'.format(np.argmax(mnist.test.labels[idx])))"
   ]
  },
  {
   "cell_type": "code",
   "execution_count": null,
   "metadata": {},
   "outputs": [],
   "source": [
    "#А теперь рисуй сама и смотри..\n",
    "import scipy.misc\n",
    "\n",
    "img = scipy.misc.imread('digit.png')\n",
    "img = scipy.misc.imresize(img, (28, 28), interp='lanczos')\n",
    "img = 1. - img.astype(np.float32)/255.\n",
    "img = np.mean(img, axis=2)\n",
    "img = img.flatten()\n",
    "\n",
    "test_digit(img)"
   ]
  }
 ],
 "metadata": {
  "kernelspec": {
   "display_name": "Python 3",
   "language": "python",
   "name": "python3"
  },
  "language_info": {
   "codemirror_mode": {
    "name": "ipython",
    "version": 3
   },
   "file_extension": ".py",
   "mimetype": "text/x-python",
   "name": "python",
   "nbconvert_exporter": "python",
   "pygments_lexer": "ipython3",
   "version": "3.5.2"
  }
 },
 "nbformat": 4,
 "nbformat_minor": 2
}
